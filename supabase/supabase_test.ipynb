{
  "nbformat": 4,
  "nbformat_minor": 0,
  "metadata": {
    "colab": {
      "provenance": []
    },
    "kernelspec": {
      "name": "python3",
      "display_name": "Python 3"
    },
    "language_info": {
      "name": "python"
    }
  },
  "cells": [
    {
      "cell_type": "markdown",
      "source": [
        "## WhoDat's Supabase Real-Time Game Engine DB\n",
        "\n",
        "### This is a Python example of using the Supabase API to push live game info into our main live game engine database. You can insert and select data using the appropriate headers as specificed in the Supabase API Documentation. To access the Supabase DB, please request the DB Manager for an API key.\n",
        "\n",
        "#### This is a very basic implementation. For WhoDat, these requests would be written using Flutter/Dart to progress rounds. Please refer to the WhoDat schema documentation."
      ],
      "metadata": {
        "id": "Vco7e_v2Z0oI"
      }
    },
    {
      "cell_type": "code",
      "execution_count": 11,
      "metadata": {
        "colab": {
          "base_uri": "https://localhost:8080/"
        },
        "id": "lgCKKsTQWvVl",
        "outputId": "e0d6c9ca-ff05-4f88-fb4b-d07c0ad82546"
      },
      "outputs": [
        {
          "output_type": "stream",
          "name": "stdout",
          "text": [
            "Status Code: 401\n",
            "Response JSON: {'message': 'Invalid API key', 'hint': 'Double check your Supabase `anon` or `service_role` API key.'}\n"
          ]
        }
      ],
      "source": [
        "import requests\n",
        "\n",
        "# Define Connectors\n",
        "SUPABASE_URL = \"https://risawghtwivwvalwsfxt.supabase.co\"\n",
        "SUPABASE_API_KEY = \"supabase-api-key\"\n",
        "\n",
        "# Define Headers\n",
        "headers = {\n",
        "    \"apikey\": SUPABASE_API_KEY,\n",
        "    \"Authorization\": f\"Bearer {SUPABASE_API_KEY}\",\n",
        "    \"Content-Type\": \"application/json\",\n",
        "    \"Prefer\": \"return=representation\"\n",
        "}\n",
        "\n",
        "# Insert Game Data\n",
        "data = {\n",
        "    \"game_pin\": \"RAND123\",\n",
        "    \"player1_name\": \"TestPlayer\",\n",
        "    \"game_mode\": \"athletes\",\n",
        "    \"status\": \"waiting\",\n",
        "    \"round_num\": 1\n",
        "}\n",
        "\n",
        "# Query the Data we just Entered\n",
        "response = requests.post(\n",
        "    f\"{SUPABASE_URL}/rest/v1/live_games?select=*\",\n",
        "    json=data,\n",
        "    headers=headers\n",
        ")\n",
        "\n",
        "# Print Output for Debugging\n",
        "print(\"Status Code:\", response.status_code)\n",
        "print(\"Response JSON:\", response.json())\n"
      ]
    }
  ]
}